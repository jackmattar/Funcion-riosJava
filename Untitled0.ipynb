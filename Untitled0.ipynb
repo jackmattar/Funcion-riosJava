{
  "nbformat": 4,
  "nbformat_minor": 0,
  "metadata": {
    "colab": {
      "name": "Untitled0.ipynb",
      "provenance": [],
      "collapsed_sections": [],
      "authorship_tag": "ABX9TyM0BC9xdeZdYKVR7E0uTzui",
      "include_colab_link": true
    },
    "kernelspec": {
      "name": "python3",
      "display_name": "Python 3"
    }
  },
  "cells": [
    {
      "cell_type": "markdown",
      "metadata": {
        "id": "view-in-github",
        "colab_type": "text"
      },
      "source": [
        "<a href=\"https://colab.research.google.com/github/jackmattar/FuncionariosJava/blob/master/Untitled0.ipynb\" target=\"_parent\"><img src=\"https://colab.research.google.com/assets/colab-badge.svg\" alt=\"Open In Colab\"/></a>"
      ]
    },
    {
      "cell_type": "code",
      "metadata": {
        "id": "jc3mHUY3oaEN"
      },
      "source": [
        "# features (1 sim 0 nao)\n",
        "# pelo longo?\n",
        "# perna curta?\n",
        "# faz auau?\n",
        "\n",
        "porco1 = [0,1,0]\n",
        "porco2 = [0,1,1]\n",
        "porco3 = [1,1,0]\n",
        "\n",
        "cachorro1 = [0,1,1]\n",
        "cachorro2 = [1,0,1]\n",
        "cachorro3 = [1,1,1]\n",
        "\n",
        "# porco -> 1  cachorro -> 0 \n",
        "train_x = [porco1, porco2, porco3, cachorro1, cachorro2, cachorro3]\n",
        "train_y = [1,1,1,0,0,0]"
      ],
      "execution_count": 1,
      "outputs": []
    },
    {
      "cell_type": "code",
      "metadata": {
        "colab": {
          "base_uri": "https://localhost:8080/"
        },
        "id": "yGiAEskdqeRc",
        "outputId": "86488975-7d68-4f2c-a051-2e067765a9ab"
      },
      "source": [
        "from sklearn.svm import LinearSVC\n",
        "# sklearn é uma biblioteca python para analise\n",
        "# LinearSVC é um estimador dessa biblioteca\n",
        "\n",
        "model = LinearSVC()\n",
        "model.fit(train_x, train_y)"
      ],
      "execution_count": 2,
      "outputs": [
        {
          "output_type": "execute_result",
          "data": {
            "text/plain": [
              "LinearSVC(C=1.0, class_weight=None, dual=True, fit_intercept=True,\n",
              "          intercept_scaling=1, loss='squared_hinge', max_iter=1000,\n",
              "          multi_class='ovr', penalty='l2', random_state=None, tol=0.0001,\n",
              "          verbose=0)"
            ]
          },
          "metadata": {
            "tags": []
          },
          "execution_count": 2
        }
      ]
    },
    {
      "cell_type": "code",
      "metadata": {
        "colab": {
          "base_uri": "https://localhost:8080/"
        },
        "id": "FOEsqRXfrchI",
        "outputId": "79701685-d972-4024-f483-0e1fe246d03e"
      },
      "source": [
        "animal_misterioso = [1,1,1]\n",
        "model.predict([animal_misterioso])"
      ],
      "execution_count": 3,
      "outputs": [
        {
          "output_type": "execute_result",
          "data": {
            "text/plain": [
              "array([0])"
            ]
          },
          "metadata": {
            "tags": []
          },
          "execution_count": 3
        }
      ]
    },
    {
      "cell_type": "code",
      "metadata": {
        "colab": {
          "base_uri": "https://localhost:8080/"
        },
        "id": "ShVCyBeZsAe3",
        "outputId": "dbceb25e-9f00-4e72-cbd7-1c5304cb90aa"
      },
      "source": [
        "misterio1 = [1,1,1] \n",
        "misterio2 = [1,1,0]\n",
        "misterio3 = [0,1,1]\n",
        "\n",
        "testes_x = [misterio1, misterio2, misterio3] \n",
        "testes_y = [0,1,1] # o que é\n",
        "\n",
        "previsoes = model.predict(testes_x) # o que o computador entendeu que era\n",
        "\n",
        "#numpy ajuda a fazer a comparação de tipos diferentes\n",
        "# no caso aqui array([]) e []\n",
        "#verifica o que o computador previu com o que realmente era\n",
        "previsoes == testes_y\n"
      ],
      "execution_count": 4,
      "outputs": [
        {
          "output_type": "execute_result",
          "data": {
            "text/plain": [
              "array([ True,  True, False])"
            ]
          },
          "metadata": {
            "tags": []
          },
          "execution_count": 4
        }
      ]
    },
    {
      "cell_type": "code",
      "metadata": {
        "colab": {
          "base_uri": "https://localhost:8080/"
        },
        "id": "hX91tLQGvU9j",
        "outputId": "68a10393-b1ac-4469-df5b-09a5cf959ece"
      },
      "source": [
        "# também possibilita somar\n",
        "corretos = (previsoes == testes_y).sum()\n",
        "total = len(testes_x)\n",
        "taxa_de_acerto = corretos/total\n",
        "print(\"Taxa de acertos: %.2f \" % (taxa_de_acerto *100))"
      ],
      "execution_count": 10,
      "outputs": [
        {
          "output_type": "stream",
          "text": [
            "Taxa de acertos: 66.67 \n"
          ],
          "name": "stdout"
        }
      ]
    },
    {
      "cell_type": "code",
      "metadata": {
        "colab": {
          "base_uri": "https://localhost:8080/"
        },
        "id": "a_4tUs0MyeUd",
        "outputId": "7fe862e4-98df-4b2f-92e0-d7b1151a7c42"
      },
      "source": [
        "from sklearn.metrics import accuracy_score\n",
        "taxa_de_acerto = accuracy_score(testes_y, previsoes)\n",
        "print(\"Taxas de acertos: \", taxa_de_acerto * 100)"
      ],
      "execution_count": 7,
      "outputs": [
        {
          "output_type": "stream",
          "text": [
            "Taxas de acertos:  66.66666666666666\n"
          ],
          "name": "stdout"
        }
      ]
    },
    {
      "cell_type": "code",
      "metadata": {
        "id": "R030iuLk2j2x"
      },
      "source": [
        ""
      ],
      "execution_count": 6,
      "outputs": []
    }
  ]
}